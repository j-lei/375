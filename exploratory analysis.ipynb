{
 "cells": [
  {
   "cell_type": "code",
   "execution_count": 5,
   "metadata": {},
   "outputs": [
    {
     "name": "stdout",
     "output_type": "stream",
     "text": [
      "['1100563910162333696', datetime.datetime(2019, 2, 27, 1, 10, 58), b'RT @WB_Games_UK: The LEGO Movie 2 Videogame releases on 1st March! To celebrate, we\\xe2\\x80\\x99re giving away 5 of packs of LEGO Movie 2 minifigs and\\xe2\\x80\\xa6']\n",
      "['1100563846807326720', datetime.datetime(2019, 2, 27, 1, 10, 43), b'RT @DCComicsKids: It\\xe2\\x80\\x99s finally here! You can now play as your favorite characters in The LEGO Movie 2 Videogame to discover new worlds, bui\\xe2\\x80\\xa6']\n",
      "['1100563794940620801', datetime.datetime(2019, 2, 27, 1, 10, 30), b'what\\xe2\\x80\\x99s up everyone i\\xe2\\x80\\x99m sick as fuck, slightly hyped up on cough medicine, and going to go see the lego movie 2 and probably cry over it']\n",
      "['1100563442778365952', datetime.datetime(2019, 2, 27, 1, 9, 6), b'RT @lynnvwang: WOAH! Unikitty and Puppycorn are both in the Lego Movie 2 videogame! You can also see the castle based off the show! HOW COO\\xe2\\x80\\xa6']\n"
     ]
    },
    {
     "ename": "KeyboardInterrupt",
     "evalue": "",
     "output_type": "error",
     "traceback": [
      "\u001b[1;31m---------------------------------------------------------------------------\u001b[0m",
      "\u001b[1;31mKeyboardInterrupt\u001b[0m                         Traceback (most recent call last)",
      "\u001b[1;32m<ipython-input-5-1884e75506ff>\u001b[0m in \u001b[0;36m<module>\u001b[1;34m\u001b[0m\n\u001b[0;32m     30\u001b[0m  \u001b[0mwriter\u001b[0m\u001b[1;33m.\u001b[0m\u001b[0mwriterow\u001b[0m\u001b[1;33m(\u001b[0m\u001b[0mouttweets\u001b[0m\u001b[1;33m)\u001b[0m\u001b[1;33m\u001b[0m\u001b[1;33m\u001b[0m\u001b[0m\n\u001b[0;32m     31\u001b[0m  \u001b[0mprint\u001b[0m\u001b[1;33m(\u001b[0m\u001b[0mouttweets\u001b[0m\u001b[1;33m)\u001b[0m\u001b[1;33m\u001b[0m\u001b[1;33m\u001b[0m\u001b[0m\n\u001b[1;32m---> 32\u001b[1;33m  \u001b[0mtime\u001b[0m\u001b[1;33m.\u001b[0m\u001b[0msleep\u001b[0m\u001b[1;33m(\u001b[0m\u001b[1;36m2\u001b[0m\u001b[1;33m)\u001b[0m\u001b[1;33m\u001b[0m\u001b[1;33m\u001b[0m\u001b[0m\n\u001b[0m\u001b[0;32m     33\u001b[0m \u001b[0mf\u001b[0m\u001b[1;33m.\u001b[0m\u001b[0mclose\u001b[0m\u001b[1;33m(\u001b[0m\u001b[1;33m)\u001b[0m\u001b[1;33m\u001b[0m\u001b[1;33m\u001b[0m\u001b[0m\n",
      "\u001b[1;31mKeyboardInterrupt\u001b[0m: "
     ]
    }
   ],
   "source": [
    "from tweepy import Stream\n",
    "from tweepy import OAuthHandler\n",
    "from tweepy.streaming import StreamListener\n",
    "import tweepy\n",
    "import csv\n",
    "import sys\n",
    "import time\n",
    "\n",
    "#consumer key, consumer secret, access token, access secret.\n",
    "ckey=\"hpbARu5lJlozST82JEdXYcaS7\"\n",
    "csecret=\"JpfbXATmdNPz6yIhFwmVU1mGU28QTICCuYkfqGibb25HV4x4VK\"\n",
    "atoken=\"1094363214043889665-UohVaHgV89P7OtSgUlWq6QJ6q30Yu1\"\n",
    "asecret=\"mz0RhOmUHN2ISAFcE3j0bOwZVxoAy5x5Ccn8RAiqYrRRI\"\n",
    "\n",
    "auth = OAuthHandler(ckey, csecret)\n",
    "auth.set_access_token(atoken, asecret)\n",
    "api = tweepy.API(auth)\n",
    "\n",
    "#emoji may give trouble when printing (not saving) so creating a translation table\n",
    "non_bmp_map = dict.fromkeys(range(0x10000, sys.maxunicode + 1), 0xfffd)\n",
    "\n",
    "f = open('tweepy_tweets.csv', 'w')\n",
    "writer = csv.writer(f)\n",
    "writer.writerow([\"id\",\"created_at\",\"text\"])\n",
    "\n",
    "alltweets = tweepy.Cursor(api.search, q='the lego movie').items()\n",
    "for tweet in alltweets:\n",
    " #print(str(tweet).translate(non_bmp_map))\n",
    " outtweets = [tweet.id_str, tweet.created_at, tweet.text.encode(\"utf-8\")]\n",
    " writer.writerow(outtweets)\n",
    " print(outtweets)\n",
    " time.sleep(2)\n",
    "f.close()"
   ]
  },
  {
   "cell_type": "code",
   "execution_count": null,
   "metadata": {},
   "outputs": [],
   "source": []
  }
 ],
 "metadata": {
  "kernelspec": {
   "display_name": "Python 3",
   "language": "python",
   "name": "python3"
  },
  "language_info": {
   "codemirror_mode": {
    "name": "ipython",
    "version": 3
   },
   "file_extension": ".py",
   "mimetype": "text/x-python",
   "name": "python",
   "nbconvert_exporter": "python",
   "pygments_lexer": "ipython3",
   "version": "3.7.2"
  }
 },
 "nbformat": 4,
 "nbformat_minor": 2
}

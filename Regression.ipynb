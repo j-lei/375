{
 "cells": [
  {
   "cell_type": "code",
   "execution_count": 1,
   "metadata": {},
   "outputs": [],
   "source": [
    "%matplotlib inline\n",
    "\n",
    "import numpy as np\n",
    "import matplotlib.pyplot as plt\n",
    "import pandas as pd\n",
    "import json\n",
    "import datetime\n",
    "import statsmodels.api as sm"
   ]
  },
  {
   "cell_type": "code",
   "execution_count": 2,
   "metadata": {},
   "outputs": [],
   "source": [
    "def load_sentiment_scores_from_file(file):\n",
    "    movie_scores_dict = {}\n",
    "    \n",
    "    with open(file, 'r') as input_file:\n",
    "            \n",
    "            for line in input_file:\n",
    "                line_list = line.strip().split()\n",
    "                movie_scores_dict[' '.join(line_list[:-1])] = float(line_list[-1])\n",
    "                \n",
    "    return movie_scores_dict"
   ]
  },
  {
   "cell_type": "code",
   "execution_count": 3,
   "metadata": {},
   "outputs": [],
   "source": [
    "def make_df(movie_file):\n",
    "    scores_dict = load_sentiment_scores_from_file('intermediates/movie_log')\n",
    "    df = pd.DataFrame(list(scores_dict.items()), columns=['movie', 'sentiment score'])\n",
    "    \n",
    "    df_movies = pd.read_csv(movie_file, parse_dates=['release_date'])\n",
    "    df_movies = df_movies[['title', 'revenue', 'budget', 'vote_average', 'vote_count']]\n",
    "    merged = df.merge(df_movies, left_on='movie', right_on='title', how='inner')\n",
    "    merged = merged[['movie', 'sentiment score', 'budget', 'vote_average', 'vote_count', 'revenue']]\n",
    "    return merged"
   ]
  },
  {
   "cell_type": "code",
   "execution_count": 4,
   "metadata": {},
   "outputs": [],
   "source": [
    "def run_regression(x_list, y_str, df):\n",
    "    X = df[x_list]\n",
    "    y = df[y_str]\n",
    "    X = sm.add_constant(X)\n",
    "    model = sm.OLS(y, X).fit() ## sm.OLS(output, input)\n",
    "    predictions = model.predict(X)\n",
    "    return model.summary()"
   ]
  },
  {
   "cell_type": "code",
   "execution_count": 8,
   "metadata": {},
   "outputs": [
    {
     "data": {
      "text/html": [
       "<table class=\"simpletable\">\n",
       "<caption>OLS Regression Results</caption>\n",
       "<tr>\n",
       "  <th>Dep. Variable:</th>         <td>revenue</td>     <th>  R-squared:         </th> <td>   0.645</td> \n",
       "</tr>\n",
       "<tr>\n",
       "  <th>Model:</th>                   <td>OLS</td>       <th>  Adj. R-squared:    </th> <td>   0.642</td> \n",
       "</tr>\n",
       "<tr>\n",
       "  <th>Method:</th>             <td>Least Squares</td>  <th>  F-statistic:       </th> <td>   225.4</td> \n",
       "</tr>\n",
       "<tr>\n",
       "  <th>Date:</th>             <td>Thu, 02 May 2019</td> <th>  Prob (F-statistic):</th> <td>4.40e-110</td>\n",
       "</tr>\n",
       "<tr>\n",
       "  <th>Time:</th>                 <td>18:54:14</td>     <th>  Log-Likelihood:    </th> <td> -10236.</td> \n",
       "</tr>\n",
       "<tr>\n",
       "  <th>No. Observations:</th>      <td>   501</td>      <th>  AIC:               </th> <td>2.048e+04</td>\n",
       "</tr>\n",
       "<tr>\n",
       "  <th>Df Residuals:</th>          <td>   496</td>      <th>  BIC:               </th> <td>2.050e+04</td>\n",
       "</tr>\n",
       "<tr>\n",
       "  <th>Df Model:</th>              <td>     4</td>      <th>                     </th>     <td> </td>    \n",
       "</tr>\n",
       "<tr>\n",
       "  <th>Covariance Type:</th>      <td>nonrobust</td>    <th>                     </th>     <td> </td>    \n",
       "</tr>\n",
       "</table>\n",
       "<table class=\"simpletable\">\n",
       "<tr>\n",
       "         <td></td>            <th>coef</th>     <th>std err</th>      <th>t</th>      <th>P>|t|</th>  <th>[0.025</th>    <th>0.975]</th>  \n",
       "</tr>\n",
       "<tr>\n",
       "  <th>const</th>           <td>-9.587e+07</td> <td> 8.15e+07</td> <td>   -1.176</td> <td> 0.240</td> <td>-2.56e+08</td> <td> 6.43e+07</td>\n",
       "</tr>\n",
       "<tr>\n",
       "  <th>sentiment score</th> <td>-1.795e+07</td> <td> 7.52e+07</td> <td>   -0.239</td> <td> 0.811</td> <td>-1.66e+08</td> <td>  1.3e+08</td>\n",
       "</tr>\n",
       "<tr>\n",
       "  <th>budget</th>          <td>    1.9870</td> <td>    0.171</td> <td>   11.618</td> <td> 0.000</td> <td>    1.651</td> <td>    2.323</td>\n",
       "</tr>\n",
       "<tr>\n",
       "  <th>vote_average</th>    <td> 7.224e+06</td> <td> 1.33e+07</td> <td>    0.543</td> <td> 0.587</td> <td>-1.89e+07</td> <td> 3.34e+07</td>\n",
       "</tr>\n",
       "<tr>\n",
       "  <th>vote_count</th>      <td> 7.197e+04</td> <td> 5324.830</td> <td>   13.516</td> <td> 0.000</td> <td> 6.15e+04</td> <td> 8.24e+04</td>\n",
       "</tr>\n",
       "</table>\n",
       "<table class=\"simpletable\">\n",
       "<tr>\n",
       "  <th>Omnibus:</th>       <td>272.812</td> <th>  Durbin-Watson:     </th> <td>   1.779</td>\n",
       "</tr>\n",
       "<tr>\n",
       "  <th>Prob(Omnibus):</th> <td> 0.000</td>  <th>  Jarque-Bera (JB):  </th> <td>3435.745</td>\n",
       "</tr>\n",
       "<tr>\n",
       "  <th>Skew:</th>          <td> 2.082</td>  <th>  Prob(JB):          </th> <td>    0.00</td>\n",
       "</tr>\n",
       "<tr>\n",
       "  <th>Kurtosis:</th>      <td>15.135</td>  <th>  Cond. No.          </th> <td>1.24e+09</td>\n",
       "</tr>\n",
       "</table><br/><br/>Warnings:<br/>[1] Standard Errors assume that the covariance matrix of the errors is correctly specified.<br/>[2] The condition number is large, 1.24e+09. This might indicate that there are<br/>strong multicollinearity or other numerical problems."
      ],
      "text/plain": [
       "<class 'statsmodels.iolib.summary.Summary'>\n",
       "\"\"\"\n",
       "                            OLS Regression Results                            \n",
       "==============================================================================\n",
       "Dep. Variable:                revenue   R-squared:                       0.645\n",
       "Model:                            OLS   Adj. R-squared:                  0.642\n",
       "Method:                 Least Squares   F-statistic:                     225.4\n",
       "Date:                Thu, 02 May 2019   Prob (F-statistic):          4.40e-110\n",
       "Time:                        18:54:14   Log-Likelihood:                -10236.\n",
       "No. Observations:                 501   AIC:                         2.048e+04\n",
       "Df Residuals:                     496   BIC:                         2.050e+04\n",
       "Df Model:                           4                                         \n",
       "Covariance Type:            nonrobust                                         \n",
       "===================================================================================\n",
       "                      coef    std err          t      P>|t|      [0.025      0.975]\n",
       "-----------------------------------------------------------------------------------\n",
       "const           -9.587e+07   8.15e+07     -1.176      0.240   -2.56e+08    6.43e+07\n",
       "sentiment score -1.795e+07   7.52e+07     -0.239      0.811   -1.66e+08     1.3e+08\n",
       "budget              1.9870      0.171     11.618      0.000       1.651       2.323\n",
       "vote_average     7.224e+06   1.33e+07      0.543      0.587   -1.89e+07    3.34e+07\n",
       "vote_count       7.197e+04   5324.830     13.516      0.000    6.15e+04    8.24e+04\n",
       "==============================================================================\n",
       "Omnibus:                      272.812   Durbin-Watson:                   1.779\n",
       "Prob(Omnibus):                  0.000   Jarque-Bera (JB):             3435.745\n",
       "Skew:                           2.082   Prob(JB):                         0.00\n",
       "Kurtosis:                      15.135   Cond. No.                     1.24e+09\n",
       "==============================================================================\n",
       "\n",
       "Warnings:\n",
       "[1] Standard Errors assume that the covariance matrix of the errors is correctly specified.\n",
       "[2] The condition number is large, 1.24e+09. This might indicate that there are\n",
       "strong multicollinearity or other numerical problems.\n",
       "\"\"\""
      ]
     },
     "execution_count": 8,
     "metadata": {},
     "output_type": "execute_result"
    }
   ],
   "source": [
    "run_regression(['sentiment score', 'budget', 'vote_average', 'vote_count'], 'revenue', make_df('tmdb/tmdb_5000_movies.csv'))"
   ]
  },
  {
   "cell_type": "code",
   "execution_count": null,
   "metadata": {},
   "outputs": [],
   "source": []
  }
 ],
 "metadata": {
  "kernelspec": {
   "display_name": "Python 3",
   "language": "python",
   "name": "python3"
  },
  "language_info": {
   "codemirror_mode": {
    "name": "ipython",
    "version": 3
   },
   "file_extension": ".py",
   "mimetype": "text/x-python",
   "name": "python",
   "nbconvert_exporter": "python",
   "pygments_lexer": "ipython3",
   "version": "3.6.7"
  }
 },
 "nbformat": 4,
 "nbformat_minor": 2
}

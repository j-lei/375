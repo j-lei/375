{
 "cells": [
  {
   "cell_type": "code",
   "execution_count": 1,
   "metadata": {},
   "outputs": [],
   "source": [
    "%matplotlib inline\n",
    "\n",
    "import numpy as np\n",
    "import matplotlib.pyplot as plt\n",
    "import pandas as pd\n",
    "import json\n",
    "import datetime\n",
    "import statsmodels.api as sm"
   ]
  },
  {
   "cell_type": "code",
   "execution_count": 2,
   "metadata": {},
   "outputs": [],
   "source": [
    "def load_sentiment_scores_from_file(file):\n",
    "    movie_scores_dict = {}\n",
    "    \n",
    "    with open(file, 'r') as input_file:\n",
    "            \n",
    "            for line in input_file:\n",
    "                line_list = line.strip().split()\n",
    "                movie_scores_dict[' '.join(line_list[:-1])] = float(line_list[-1])\n",
    "                \n",
    "    return movie_scores_dict"
   ]
  },
  {
   "cell_type": "code",
   "execution_count": 3,
   "metadata": {},
   "outputs": [],
   "source": [
    "def make_df(movie_file):\n",
    "    scores_dict = load_sentiment_scores_from_file('intermediates/movie_log')\n",
    "    df = pd.DataFrame(list(scores_dict.items()), columns=['movie', 'sentiment score'])\n",
    "    \n",
    "    df_movies = pd.read_csv(movie_file, parse_dates=['release_date'])\n",
    "    df_movies = df_movies[['title', 'revenue', 'budget', 'vote_average', 'vote_count']]\n",
    "    merged = df.merge(df_movies, left_on='movie', right_on='title', how='inner')\n",
    "    merged = merged[['movie', 'sentiment score', 'budget', 'vote_average', 'vote_count', 'revenue']]\n",
    "    return merged"
   ]
  },
  {
   "cell_type": "code",
   "execution_count": 4,
   "metadata": {},
   "outputs": [],
   "source": [
    "def run_regression(x_list, y_str, df):\n",
    "    X = df[x_list]\n",
    "    y = df[y_str]\n",
    "    X = sm.add_constant(X)\n",
    "    model = sm.OLS(y, X).fit() ## sm.OLS(output, input)\n",
    "    predictions = model.predict(X)\n",
    "    return model.summary()"
   ]
  },
  {
   "cell_type": "code",
   "execution_count": 6,
   "metadata": {},
   "outputs": [
    {
     "data": {
      "text/html": [
       "<table class=\"simpletable\">\n",
       "<caption>OLS Regression Results</caption>\n",
       "<tr>\n",
       "  <th>Dep. Variable:</th>         <td>revenue</td>     <th>  R-squared:         </th> <td>   0.646</td> \n",
       "</tr>\n",
       "<tr>\n",
       "  <th>Model:</th>                   <td>OLS</td>       <th>  Adj. R-squared:    </th> <td>   0.643</td> \n",
       "</tr>\n",
       "<tr>\n",
       "  <th>Method:</th>             <td>Least Squares</td>  <th>  F-statistic:       </th> <td>   226.6</td> \n",
       "</tr>\n",
       "<tr>\n",
       "  <th>Date:</th>             <td>Thu, 02 May 2019</td> <th>  Prob (F-statistic):</th> <td>1.46e-110</td>\n",
       "</tr>\n",
       "<tr>\n",
       "  <th>Time:</th>                 <td>00:34:14</td>     <th>  Log-Likelihood:    </th> <td> -10256.</td> \n",
       "</tr>\n",
       "<tr>\n",
       "  <th>No. Observations:</th>      <td>   502</td>      <th>  AIC:               </th> <td>2.052e+04</td>\n",
       "</tr>\n",
       "<tr>\n",
       "  <th>Df Residuals:</th>          <td>   497</td>      <th>  BIC:               </th> <td>2.054e+04</td>\n",
       "</tr>\n",
       "<tr>\n",
       "  <th>Df Model:</th>              <td>     4</td>      <th>                     </th>     <td> </td>    \n",
       "</tr>\n",
       "<tr>\n",
       "  <th>Covariance Type:</th>      <td>nonrobust</td>    <th>                     </th>     <td> </td>    \n",
       "</tr>\n",
       "</table>\n",
       "<table class=\"simpletable\">\n",
       "<tr>\n",
       "         <td></td>            <th>coef</th>     <th>std err</th>      <th>t</th>      <th>P>|t|</th>  <th>[0.025</th>    <th>0.975]</th>  \n",
       "</tr>\n",
       "<tr>\n",
       "  <th>const</th>           <td>-1.033e+08</td> <td> 8.04e+07</td> <td>   -1.285</td> <td> 0.199</td> <td>-2.61e+08</td> <td> 5.46e+07</td>\n",
       "</tr>\n",
       "<tr>\n",
       "  <th>sentiment score</th> <td> 1.026e+08</td> <td> 1.23e+08</td> <td>    0.832</td> <td> 0.406</td> <td> -1.4e+08</td> <td> 3.45e+08</td>\n",
       "</tr>\n",
       "<tr>\n",
       "  <th>budget</th>          <td>    1.9744</td> <td>    0.171</td> <td>   11.570</td> <td> 0.000</td> <td>    1.639</td> <td>    2.310</td>\n",
       "</tr>\n",
       "<tr>\n",
       "  <th>vote_average</th>    <td> 5.429e+06</td> <td> 1.33e+07</td> <td>    0.409</td> <td> 0.682</td> <td>-2.06e+07</td> <td> 3.15e+07</td>\n",
       "</tr>\n",
       "<tr>\n",
       "  <th>vote_count</th>      <td> 7.232e+04</td> <td> 5321.050</td> <td>   13.592</td> <td> 0.000</td> <td> 6.19e+04</td> <td> 8.28e+04</td>\n",
       "</tr>\n",
       "</table>\n",
       "<table class=\"simpletable\">\n",
       "<tr>\n",
       "  <th>Omnibus:</th>       <td>271.595</td> <th>  Durbin-Watson:     </th> <td>   1.779</td>\n",
       "</tr>\n",
       "<tr>\n",
       "  <th>Prob(Omnibus):</th> <td> 0.000</td>  <th>  Jarque-Bera (JB):  </th> <td>3343.110</td>\n",
       "</tr>\n",
       "<tr>\n",
       "  <th>Skew:</th>          <td> 2.073</td>  <th>  Prob(JB):          </th> <td>    0.00</td>\n",
       "</tr>\n",
       "<tr>\n",
       "  <th>Kurtosis:</th>      <td>14.943</td>  <th>  Cond. No.          </th> <td>1.79e+09</td>\n",
       "</tr>\n",
       "</table><br/><br/>Warnings:<br/>[1] Standard Errors assume that the covariance matrix of the errors is correctly specified.<br/>[2] The condition number is large, 1.79e+09. This might indicate that there are<br/>strong multicollinearity or other numerical problems."
      ],
      "text/plain": [
       "<class 'statsmodels.iolib.summary.Summary'>\n",
       "\"\"\"\n",
       "                            OLS Regression Results                            \n",
       "==============================================================================\n",
       "Dep. Variable:                revenue   R-squared:                       0.646\n",
       "Model:                            OLS   Adj. R-squared:                  0.643\n",
       "Method:                 Least Squares   F-statistic:                     226.6\n",
       "Date:                Thu, 02 May 2019   Prob (F-statistic):          1.46e-110\n",
       "Time:                        00:34:14   Log-Likelihood:                -10256.\n",
       "No. Observations:                 502   AIC:                         2.052e+04\n",
       "Df Residuals:                     497   BIC:                         2.054e+04\n",
       "Df Model:                           4                                         \n",
       "Covariance Type:            nonrobust                                         \n",
       "===================================================================================\n",
       "                      coef    std err          t      P>|t|      [0.025      0.975]\n",
       "-----------------------------------------------------------------------------------\n",
       "const           -1.033e+08   8.04e+07     -1.285      0.199   -2.61e+08    5.46e+07\n",
       "sentiment score  1.026e+08   1.23e+08      0.832      0.406    -1.4e+08    3.45e+08\n",
       "budget              1.9744      0.171     11.570      0.000       1.639       2.310\n",
       "vote_average     5.429e+06   1.33e+07      0.409      0.682   -2.06e+07    3.15e+07\n",
       "vote_count       7.232e+04   5321.050     13.592      0.000    6.19e+04    8.28e+04\n",
       "==============================================================================\n",
       "Omnibus:                      271.595   Durbin-Watson:                   1.779\n",
       "Prob(Omnibus):                  0.000   Jarque-Bera (JB):             3343.110\n",
       "Skew:                           2.073   Prob(JB):                         0.00\n",
       "Kurtosis:                      14.943   Cond. No.                     1.79e+09\n",
       "==============================================================================\n",
       "\n",
       "Warnings:\n",
       "[1] Standard Errors assume that the covariance matrix of the errors is correctly specified.\n",
       "[2] The condition number is large, 1.79e+09. This might indicate that there are\n",
       "strong multicollinearity or other numerical problems.\n",
       "\"\"\""
      ]
     },
     "execution_count": 6,
     "metadata": {},
     "output_type": "execute_result"
    }
   ],
   "source": [
    "run_regression(['sentiment score', 'budget', 'vote_average', 'vote_count'], 'revenue', make_df('tmdb/tmdb_5000_movies.csv'))"
   ]
  },
  {
   "cell_type": "code",
   "execution_count": null,
   "metadata": {},
   "outputs": [],
   "source": []
  }
 ],
 "metadata": {
  "kernelspec": {
   "display_name": "Python 3",
   "language": "python",
   "name": "python3"
  },
  "language_info": {
   "codemirror_mode": {
    "name": "ipython",
    "version": 3
   },
   "file_extension": ".py",
   "mimetype": "text/x-python",
   "name": "python",
   "nbconvert_exporter": "python",
   "pygments_lexer": "ipython3",
   "version": "3.6.7"
  }
 },
 "nbformat": 4,
 "nbformat_minor": 2
}

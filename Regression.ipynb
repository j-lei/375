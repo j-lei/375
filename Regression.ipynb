{
 "cells": [
  {
   "cell_type": "code",
   "execution_count": 53,
   "metadata": {},
   "outputs": [],
   "source": [
    "%matplotlib inline\n",
    "\n",
    "import numpy as np\n",
    "import matplotlib.pyplot as plt\n",
    "import pandas as pd\n",
    "import json\n",
    "import datetime\n",
    "import statsmodels.api as sm"
   ]
  },
  {
   "cell_type": "code",
   "execution_count": 54,
   "metadata": {
    "collapsed": true
   },
   "outputs": [],
   "source": [
    "def load_sentiment_scores_from_file(file):\n",
    "    movie_scores_dict = {}\n",
    "    \n",
    "    with open(file, 'r') as input_file:\n",
    "            \n",
    "            for line in input_file:\n",
    "                line_list = line.strip().split()\n",
    "                movie_scores_dict[' '.join(line_list[:-1])] = float(line_list[-1])\n",
    "                \n",
    "    return movie_scores_dict"
   ]
  },
  {
   "cell_type": "code",
   "execution_count": 55,
   "metadata": {},
   "outputs": [],
   "source": [
    "def make_df(movie_file):\n",
    "    scores_dict = load_sentiment_scores_from_file('intermediates/movie_log')\n",
    "    df = pd.DataFrame(list(scores_dict.items()), columns=['movie', 'sentiment score'])\n",
    "    \n",
    "    df_movies = pd.read_csv(movie_file, parse_dates=['release_date'])\n",
    "    df_movies = df_movies[['title', 'revenue', 'budget', 'vote_average', 'vote_count']]\n",
    "    merged = df.merge(df_movies, left_on='movie', right_on='title', how='inner')\n",
    "    merged = merged[['movie', 'sentiment score', 'budget', 'vote_average', 'vote_count', 'revenue']]\n",
    "    return merged"
   ]
  },
  {
   "cell_type": "code",
   "execution_count": 56,
   "metadata": {
    "collapsed": true
   },
   "outputs": [],
   "source": [
    "def run_regression(x_list, y_str, df):\n",
    "    X = df[x_list]\n",
    "    y = df[y_str]\n",
    "    X = sm.add_constant(X)\n",
    "    model = sm.OLS(y, X).fit() ## sm.OLS(output, input)\n",
    "    predictions = model.predict(X)\n",
    "    return model.summary()"
   ]
  },
  {
   "cell_type": "code",
   "execution_count": 57,
   "metadata": {},
   "outputs": [
    {
     "data": {
      "text/html": [
       "<table class=\"simpletable\">\n",
       "<caption>OLS Regression Results</caption>\n",
       "<tr>\n",
       "  <th>Dep. Variable:</th>         <td>revenue</td>     <th>  R-squared:         </th> <td>   0.503</td>\n",
       "</tr>\n",
       "<tr>\n",
       "  <th>Model:</th>                   <td>OLS</td>       <th>  Adj. R-squared:    </th> <td>   0.482</td>\n",
       "</tr>\n",
       "<tr>\n",
       "  <th>Method:</th>             <td>Least Squares</td>  <th>  F-statistic:       </th> <td>   24.27</td>\n",
       "</tr>\n",
       "<tr>\n",
       "  <th>Date:</th>             <td>Wed, 01 May 2019</td> <th>  Prob (F-statistic):</th> <td>6.83e-14</td>\n",
       "</tr>\n",
       "<tr>\n",
       "  <th>Time:</th>                 <td>22:41:30</td>     <th>  Log-Likelihood:    </th> <td> -2107.3</td>\n",
       "</tr>\n",
       "<tr>\n",
       "  <th>No. Observations:</th>      <td>   101</td>      <th>  AIC:               </th> <td>   4225.</td>\n",
       "</tr>\n",
       "<tr>\n",
       "  <th>Df Residuals:</th>          <td>    96</td>      <th>  BIC:               </th> <td>   4238.</td>\n",
       "</tr>\n",
       "<tr>\n",
       "  <th>Df Model:</th>              <td>     4</td>      <th>                     </th>     <td> </td>   \n",
       "</tr>\n",
       "<tr>\n",
       "  <th>Covariance Type:</th>      <td>nonrobust</td>    <th>                     </th>     <td> </td>   \n",
       "</tr>\n",
       "</table>\n",
       "<table class=\"simpletable\">\n",
       "<tr>\n",
       "         <td></td>            <th>coef</th>     <th>std err</th>      <th>t</th>      <th>P>|t|</th>  <th>[0.025</th>    <th>0.975]</th>  \n",
       "</tr>\n",
       "<tr>\n",
       "  <th>const</th>           <td>-7.519e+07</td> <td> 3.08e+08</td> <td>   -0.244</td> <td> 0.808</td> <td>-6.86e+08</td> <td> 5.36e+08</td>\n",
       "</tr>\n",
       "<tr>\n",
       "  <th>sentiment score</th> <td> 7.372e+07</td> <td> 3.92e+08</td> <td>    0.188</td> <td> 0.851</td> <td>-7.05e+08</td> <td> 8.52e+08</td>\n",
       "</tr>\n",
       "<tr>\n",
       "  <th>budget</th>          <td>    2.2304</td> <td>    0.634</td> <td>    3.519</td> <td> 0.001</td> <td>    0.972</td> <td>    3.489</td>\n",
       "</tr>\n",
       "<tr>\n",
       "  <th>vote_average</th>    <td> -1.47e+07</td> <td> 4.93e+07</td> <td>   -0.298</td> <td> 0.766</td> <td>-1.13e+08</td> <td> 8.32e+07</td>\n",
       "</tr>\n",
       "<tr>\n",
       "  <th>vote_count</th>      <td> 8.855e+04</td> <td> 1.42e+04</td> <td>    6.215</td> <td> 0.000</td> <td> 6.03e+04</td> <td> 1.17e+05</td>\n",
       "</tr>\n",
       "</table>\n",
       "<table class=\"simpletable\">\n",
       "<tr>\n",
       "  <th>Omnibus:</th>       <td>47.535</td> <th>  Durbin-Watson:     </th> <td>   1.610</td>\n",
       "</tr>\n",
       "<tr>\n",
       "  <th>Prob(Omnibus):</th> <td> 0.000</td> <th>  Jarque-Bera (JB):  </th> <td> 164.685</td>\n",
       "</tr>\n",
       "<tr>\n",
       "  <th>Skew:</th>          <td> 1.587</td> <th>  Prob(JB):          </th> <td>1.73e-36</td>\n",
       "</tr>\n",
       "<tr>\n",
       "  <th>Kurtosis:</th>      <td> 8.390</td> <th>  Cond. No.          </th> <td>2.71e+09</td>\n",
       "</tr>\n",
       "</table>"
      ],
      "text/plain": [
       "<class 'statsmodels.iolib.summary.Summary'>\n",
       "\"\"\"\n",
       "                            OLS Regression Results                            \n",
       "==============================================================================\n",
       "Dep. Variable:                revenue   R-squared:                       0.503\n",
       "Model:                            OLS   Adj. R-squared:                  0.482\n",
       "Method:                 Least Squares   F-statistic:                     24.27\n",
       "Date:                Wed, 01 May 2019   Prob (F-statistic):           6.83e-14\n",
       "Time:                        22:41:30   Log-Likelihood:                -2107.3\n",
       "No. Observations:                 101   AIC:                             4225.\n",
       "Df Residuals:                      96   BIC:                             4238.\n",
       "Df Model:                           4                                         \n",
       "Covariance Type:            nonrobust                                         \n",
       "===================================================================================\n",
       "                      coef    std err          t      P>|t|      [0.025      0.975]\n",
       "-----------------------------------------------------------------------------------\n",
       "const           -7.519e+07   3.08e+08     -0.244      0.808   -6.86e+08    5.36e+08\n",
       "sentiment score  7.372e+07   3.92e+08      0.188      0.851   -7.05e+08    8.52e+08\n",
       "budget              2.2304      0.634      3.519      0.001       0.972       3.489\n",
       "vote_average     -1.47e+07   4.93e+07     -0.298      0.766   -1.13e+08    8.32e+07\n",
       "vote_count       8.855e+04   1.42e+04      6.215      0.000    6.03e+04    1.17e+05\n",
       "==============================================================================\n",
       "Omnibus:                       47.535   Durbin-Watson:                   1.610\n",
       "Prob(Omnibus):                  0.000   Jarque-Bera (JB):              164.685\n",
       "Skew:                           1.587   Prob(JB):                     1.73e-36\n",
       "Kurtosis:                       8.390   Cond. No.                     2.71e+09\n",
       "==============================================================================\n",
       "\n",
       "Warnings:\n",
       "[1] Standard Errors assume that the covariance matrix of the errors is correctly specified.\n",
       "[2] The condition number is large, 2.71e+09. This might indicate that there are\n",
       "strong multicollinearity or other numerical problems.\n",
       "\"\"\""
      ]
     },
     "execution_count": 57,
     "metadata": {},
     "output_type": "execute_result"
    }
   ],
   "source": [
    "run_regression(['sentiment score', 'budget', 'vote_average', 'vote_count'], 'revenue', make_df('tmdb/tmdb_5000_movies.csv'))"
   ]
  },
  {
   "cell_type": "code",
   "execution_count": null,
   "metadata": {
    "collapsed": true
   },
   "outputs": [],
   "source": []
  }
 ],
 "metadata": {
  "kernelspec": {
   "display_name": "Python 3",
   "language": "python",
   "name": "python3"
  },
  "language_info": {
   "codemirror_mode": {
    "name": "ipython",
    "version": 3
   },
   "file_extension": ".py",
   "mimetype": "text/x-python",
   "name": "python",
   "nbconvert_exporter": "python",
   "pygments_lexer": "ipython3",
   "version": "3.6.3"
  }
 },
 "nbformat": 4,
 "nbformat_minor": 2
}

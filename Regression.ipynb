{
 "cells": [
  {
   "cell_type": "code",
   "execution_count": 33,
   "metadata": {},
   "outputs": [
    {
     "name": "stderr",
     "output_type": "stream",
     "text": [
      "C:\\Users\\jeile\\Anaconda3\\lib\\site-packages\\statsmodels\\compat\\pandas.py:56: FutureWarning: The pandas.core.datetools module is deprecated and will be removed in a future version. Please use the pandas.tseries module instead.\n",
      "  from pandas.core import datetools\n"
     ]
    }
   ],
   "source": [
    "%matplotlib inline\n",
    "\n",
    "import numpy as np\n",
    "import matplotlib.pyplot as plt\n",
    "import pandas as pd\n",
    "import json\n",
    "import datetime\n",
    "import statsmodels.api as sm"
   ]
  },
  {
   "cell_type": "code",
   "execution_count": 18,
   "metadata": {
    "collapsed": true
   },
   "outputs": [],
   "source": [
    "def load_sentiment_scores_from_file(file):\n",
    "    movie_scores_dict = {}\n",
    "    \n",
    "    with open(file, 'r') as input_file:\n",
    "            \n",
    "            for line in input_file:\n",
    "                line_list = line.strip().split()\n",
    "                movie_scores_dict[' '.join(line_list[:-1])] = float(line_list[-1])\n",
    "                \n",
    "    return movie_scores_dict"
   ]
  },
  {
   "cell_type": "code",
   "execution_count": 45,
   "metadata": {},
   "outputs": [],
   "source": [
    "def make_df(movie_file):\n",
    "    scores_dict = load_sentiment_scores_from_file('intermediates/movie_log')\n",
    "    df = pd.DataFrame(list(scores_dict.items()), columns=['movie', 'sentiment score'])\n",
    "    \n",
    "    df_movies = pd.read_csv(movie_file, parse_dates=['release_date'])\n",
    "    df_movies = df_movies[['title', 'revenue', 'budget', 'vote_average', 'vote_count']]\n",
    "    merged = df.merge(df_movies, left_on='movie', right_on='title', how='inner')\n",
    "    merged = merged[['movie', 'sentiment score', 'budget', 'vote_average', 'vote_count', 'revenue']]\n",
    "    return merged"
   ]
  },
  {
   "cell_type": "code",
   "execution_count": 46,
   "metadata": {
    "collapsed": true
   },
   "outputs": [],
   "source": [
    "def run_regression(x_list, y_str, df):\n",
    "    X = df[x_list]\n",
    "    y = df[y_str]\n",
    "    X = sm.add_constant(X)\n",
    "    model = sm.OLS(y, X).fit() ## sm.OLS(output, input)\n",
    "    predictions = model.predict(X)\n",
    "    return model.summary()"
   ]
  },
  {
   "cell_type": "code",
   "execution_count": 47,
   "metadata": {},
   "outputs": [
    {
     "data": {
      "text/html": [
       "<table class=\"simpletable\">\n",
       "<caption>OLS Regression Results</caption>\n",
       "<tr>\n",
       "  <th>Dep. Variable:</th>         <td>revenue</td>     <th>  R-squared:         </th> <td>   0.260</td>\n",
       "</tr>\n",
       "<tr>\n",
       "  <th>Model:</th>                   <td>OLS</td>       <th>  Adj. R-squared:    </th> <td>   0.213</td>\n",
       "</tr>\n",
       "<tr>\n",
       "  <th>Method:</th>             <td>Least Squares</td>  <th>  F-statistic:       </th> <td>   5.518</td>\n",
       "</tr>\n",
       "<tr>\n",
       "  <th>Date:</th>             <td>Wed, 01 May 2019</td> <th>  Prob (F-statistic):</th>  <td>0.00249</td>\n",
       "</tr>\n",
       "<tr>\n",
       "  <th>Time:</th>                 <td>22:23:06</td>     <th>  Log-Likelihood:    </th> <td> -1082.3</td>\n",
       "</tr>\n",
       "<tr>\n",
       "  <th>No. Observations:</th>      <td>    51</td>      <th>  AIC:               </th> <td>   2173.</td>\n",
       "</tr>\n",
       "<tr>\n",
       "  <th>Df Residuals:</th>          <td>    47</td>      <th>  BIC:               </th> <td>   2180.</td>\n",
       "</tr>\n",
       "<tr>\n",
       "  <th>Df Model:</th>              <td>     3</td>      <th>                     </th>     <td> </td>   \n",
       "</tr>\n",
       "<tr>\n",
       "  <th>Covariance Type:</th>      <td>nonrobust</td>    <th>                     </th>     <td> </td>   \n",
       "</tr>\n",
       "</table>\n",
       "<table class=\"simpletable\">\n",
       "<tr>\n",
       "         <td></td>            <th>coef</th>     <th>std err</th>      <th>t</th>      <th>P>|t|</th>  <th>[0.025</th>    <th>0.975]</th>  \n",
       "</tr>\n",
       "<tr>\n",
       "  <th>const</th>           <td>-1.812e+09</td> <td> 6.39e+08</td> <td>   -2.835</td> <td> 0.007</td> <td> -3.1e+09</td> <td>-5.27e+08</td>\n",
       "</tr>\n",
       "<tr>\n",
       "  <th>sentiment score</th> <td>-1.514e+09</td> <td> 1.42e+09</td> <td>   -1.066</td> <td> 0.292</td> <td>-4.37e+09</td> <td> 1.34e+09</td>\n",
       "</tr>\n",
       "<tr>\n",
       "  <th>budget</th>          <td>    1.8908</td> <td>    1.366</td> <td>    1.384</td> <td> 0.173</td> <td>   -0.857</td> <td>    4.639</td>\n",
       "</tr>\n",
       "<tr>\n",
       "  <th>vote_average</th>    <td> 3.502e+08</td> <td> 9.93e+07</td> <td>    3.528</td> <td> 0.001</td> <td>  1.5e+08</td> <td>  5.5e+08</td>\n",
       "</tr>\n",
       "</table>\n",
       "<table class=\"simpletable\">\n",
       "<tr>\n",
       "  <th>Omnibus:</th>       <td>32.212</td> <th>  Durbin-Watson:     </th> <td>   1.597</td>\n",
       "</tr>\n",
       "<tr>\n",
       "  <th>Prob(Omnibus):</th> <td> 0.000</td> <th>  Jarque-Bera (JB):  </th> <td>  81.806</td>\n",
       "</tr>\n",
       "<tr>\n",
       "  <th>Skew:</th>          <td> 1.762</td> <th>  Prob(JB):          </th> <td>1.72e-18</td>\n",
       "</tr>\n",
       "<tr>\n",
       "  <th>Kurtosis:</th>      <td> 8.107</td> <th>  Cond. No.          </th> <td>5.38e+09</td>\n",
       "</tr>\n",
       "</table>"
      ],
      "text/plain": [
       "<class 'statsmodels.iolib.summary.Summary'>\n",
       "\"\"\"\n",
       "                            OLS Regression Results                            \n",
       "==============================================================================\n",
       "Dep. Variable:                revenue   R-squared:                       0.260\n",
       "Model:                            OLS   Adj. R-squared:                  0.213\n",
       "Method:                 Least Squares   F-statistic:                     5.518\n",
       "Date:                Wed, 01 May 2019   Prob (F-statistic):            0.00249\n",
       "Time:                        22:23:06   Log-Likelihood:                -1082.3\n",
       "No. Observations:                  51   AIC:                             2173.\n",
       "Df Residuals:                      47   BIC:                             2180.\n",
       "Df Model:                           3                                         \n",
       "Covariance Type:            nonrobust                                         \n",
       "===================================================================================\n",
       "                      coef    std err          t      P>|t|      [0.025      0.975]\n",
       "-----------------------------------------------------------------------------------\n",
       "const           -1.812e+09   6.39e+08     -2.835      0.007    -3.1e+09   -5.27e+08\n",
       "sentiment score -1.514e+09   1.42e+09     -1.066      0.292   -4.37e+09    1.34e+09\n",
       "budget              1.8908      1.366      1.384      0.173      -0.857       4.639\n",
       "vote_average     3.502e+08   9.93e+07      3.528      0.001     1.5e+08     5.5e+08\n",
       "==============================================================================\n",
       "Omnibus:                       32.212   Durbin-Watson:                   1.597\n",
       "Prob(Omnibus):                  0.000   Jarque-Bera (JB):               81.806\n",
       "Skew:                           1.762   Prob(JB):                     1.72e-18\n",
       "Kurtosis:                       8.107   Cond. No.                     5.38e+09\n",
       "==============================================================================\n",
       "\n",
       "Warnings:\n",
       "[1] Standard Errors assume that the covariance matrix of the errors is correctly specified.\n",
       "[2] The condition number is large, 5.38e+09. This might indicate that there are\n",
       "strong multicollinearity or other numerical problems.\n",
       "\"\"\""
      ]
     },
     "execution_count": 47,
     "metadata": {},
     "output_type": "execute_result"
    }
   ],
   "source": [
    "run_regression(['sentiment score', 'budget', 'vote_average'], 'revenue', make_df('tmdb/tmdb_5000_movies.csv'))"
   ]
  },
  {
   "cell_type": "code",
   "execution_count": null,
   "metadata": {
    "collapsed": true
   },
   "outputs": [],
   "source": []
  }
 ],
 "metadata": {
  "kernelspec": {
   "display_name": "Python 3",
   "language": "python",
   "name": "python3"
  },
  "language_info": {
   "codemirror_mode": {
    "name": "ipython",
    "version": 3
   },
   "file_extension": ".py",
   "mimetype": "text/x-python",
   "name": "python",
   "nbconvert_exporter": "python",
   "pygments_lexer": "ipython3",
   "version": "3.6.3"
  }
 },
 "nbformat": 4,
 "nbformat_minor": 2
}

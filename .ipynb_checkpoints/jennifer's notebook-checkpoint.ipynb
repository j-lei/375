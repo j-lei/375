{
 "cells": [
  {
   "cell_type": "code",
   "execution_count": 1,
   "metadata": {
    "collapsed": true
   },
   "outputs": [],
   "source": [
    "from tweepy import Stream\n",
    "from tweepy import OAuthHandler\n",
    "from tweepy.streaming import StreamListener\n",
    "import tweepy\n",
    "import sys\n",
    "import json"
   ]
  },
  {
   "cell_type": "code",
   "execution_count": 2,
   "metadata": {
    "collapsed": true
   },
   "outputs": [],
   "source": [
    "\n",
    "ckey=\"hpbARu5lJlozST82JEdXYcaS7\"\n",
    "csecret=\"JpfbXATmdNPz6yIhFwmVU1mGU28QTICCuYkfqGibb25HV4x4VK\"\n",
    "atoken=\"1094363214043889665-UohVaHgV89P7OtSgUlWq6QJ6q30Yu1\"\n",
    "asecret=\"mz0RhOmUHN2ISAFcE3j0bOwZVxoAy5x5Ccn8RAiqYrRRI\"\n",
    "\n",
    "TWEET_COUNT = 2"
   ]
  },
  {
   "cell_type": "code",
   "execution_count": 3,
   "metadata": {
    "collapsed": true
   },
   "outputs": [],
   "source": [
    "\n",
    "def limit_handled(cursor):\n",
    "    while True:\n",
    "        try:\n",
    "            yield cursor.next()\n",
    "        except tweepy.RateLimitError:\n",
    "            time.sleep(15*60)\n",
    "\n",
    "# assumes actor_list has no duplicates\n",
    "def query_runner(api):\n",
    "    actor_list = []\n",
    "    tweets_by_actors = {}\n",
    "    \n",
    "    with open('test_actors.txt') as actor_file:\n",
    "        for line in actor_file:\n",
    "            actor_list.append(line.strip())\n",
    "    print(actor_list)\n",
    "    \n",
    "    for actor in actor_list:\n",
    "        tweet_list = []\n",
    "        cursor = tweepy.Cursor(api.search, q=actor, lang='en',                  tweet_mode='extended').items(TWEET_COUNT)\n",
    "        \n",
    "        for tweet in limit_handled(cursor):\n",
    "            if hasattr(tweet, 'text'):\n",
    "                contents = tweet.text\n",
    "            else:\n",
    "                contents = tweet.full_text\n",
    "            datetime = tweet.created_at\n",
    "            tweet_tuple = datetime, contents\n",
    "            tweet_list.append(tweet_tuple)\n",
    "        \n",
    "        tweets_by_actors[actor] = tweet_list\n",
    "    \n",
    "    print(tweets_by_actors)"
   ]
  },
  {
   "cell_type": "code",
   "execution_count": 4,
   "metadata": {
    "collapsed": true
   },
   "outputs": [],
   "source": [
    "def main():\n",
    "    auth = OAuthHandler(ckey, csecret)\n",
    "    auth.set_access_token(atoken, asecret)\n",
    "    api = tweepy.API(auth)\n",
    "\n",
    "    query_runner(api)\n"
   ]
  },
  {
   "cell_type": "code",
   "execution_count": 5,
   "metadata": {},
   "outputs": [
    {
     "name": "stdout",
     "output_type": "stream",
     "text": [
      "['Scarlett Johansson', 'Angelina Jolie', 'Jennifer Aniston', 'Jennifer Lawrence', 'Reese Witherspoon', 'Mila Kunis', 'Julia Roberts', 'Cate Blanchett', 'Melissa McCarthy', 'Gal Gadot', 'George Clooney', 'Dwayne Johnson', 'Robert Downey Jr.', 'Chris Hemsworth', 'Jackie Chan', 'Will Smith', 'Akshay Kumar', 'Adam Sandler', 'Salman Khan', 'Chris Evans']\n"
     ]
    },
    {
     "name": "stderr",
     "output_type": "stream",
     "text": [
      "C:\\Users\\jeile\\Anaconda3\\lib\\site-packages\\ipykernel_launcher.py:23: DeprecationWarning: generator 'limit_handled' raised StopIteration\n"
     ]
    },
    {
     "name": "stdout",
     "output_type": "stream",
     "text": [
      "{'Scarlett Johansson': [(datetime.datetime(2019, 4, 3, 3, 17, 6), '@norvina1 Okay let’s play the same sex version 😩 if that’s okay:\\n\\nScarlett Johansson (EARLY Short red bob Marvel)\\nRuby Rose\\nMargot Robbie'), (datetime.datetime(2019, 4, 3, 3, 16, 7), '[ 4.2 ]\\nNINE;\\nCaptain America: The Winter Soldier\\n—— April 4, 2014\\n—— dir. The Russo Brothers\\n—— STARRING Chris Evans, Scarlett Johansson, Samuel L. Jackson, Robert Redford https://t.co/cDZdwRrkcg')], 'Angelina Jolie': [(datetime.datetime(2019, 4, 3, 3, 19, 4), 'RT @bestofajolie: angelina jolie living her best life while eating ice cream https://t.co/hjDClMRWZo'), (datetime.datetime(2019, 4, 3, 3, 15, 40), 'RT @NYMag: A close read of three very different celebrity marriages: Billy Bob and Angelina, Mary Kate and Sarkozy, and the Pences https://…')], 'Jennifer Aniston': [(datetime.datetime(2019, 4, 3, 3, 13, 4), 'RT @colleenaniston: jennifer aniston is the cutest, you can’t even fight me on this one &lt;3 https://t.co/PsMCgnM8e3'), (datetime.datetime(2019, 4, 3, 3, 12, 33), 'Jennifer Aniston’s figure &gt;')], 'Jennifer Lawrence': [(datetime.datetime(2019, 4, 3, 3, 5, 1), '@nellamaneiro @elainemel_ Literally. Catching Fire is such a well written book with well written characters. Also movie wise you cannot tell me Shailene Woodley is more likeable than Jennifer Lawrence. It is simply ignorant.'), (datetime.datetime(2019, 4, 3, 3, 4, 14), 'listen.. spaghetti pizza is the best thing ever. thank you Jennifer lawrence')], 'Reese Witherspoon': [(datetime.datetime(2019, 4, 3, 2, 54, 32), 'reese witherspoon’s mom is wearing red at the wedding &amp; patrick dempsey’s mom is wearing a blue dress\\n\\nthese are subliminal Hollywood messages'), (datetime.datetime(2019, 4, 3, 2, 51, 23), 'Reese Witherspoon surprises consumers with Crate &amp; Barrel upgrades https://t.co/CYbXYt9DWj\\n\\nReese Witherspoon has been a brand ambassador for Crate &amp; Barrel for a couple of years, and her upbeat nature and bright style seem a perfect fit for the home goods retailer. In her late…')], 'Mila Kunis': [(datetime.datetime(2019, 4, 3, 3, 16, 45), 'RT @ActorTrivia: Mila Kunis and Ashton Kutcher on the That 70s Shows set https://t.co/hN2jSTh2TO'), (datetime.datetime(2019, 4, 3, 3, 9, 47), 'RT @badpostmila: Mila Kunis waited until gay marriage was legalized in the US to get married https://t.co/8YXcZQYzZh')], 'Julia Roberts': [(datetime.datetime(2019, 4, 3, 3, 12, 44), 'RT @harryandsaIIy: julia roberts as lost items tom hanks takes pictures of: a thread'), (datetime.datetime(2019, 4, 3, 3, 7, 16), '@boy___troy Toni Colette in Hereditary \\nAngelina Jolie in Girl, Interrupted\\nWinona Ryder in Girl, Interrupted \\nJulia Roberts in Erin Brockovich \\nCynthia Ervio in Bad Times at the El Royale')], 'Cate Blanchett': [(datetime.datetime(2019, 4, 3, 3, 10, 7), 'Rewatching The House with a Clock in the Walls and WOW does Cate Blanchett 100% roger Jack Black with a coat rack...'), (datetime.datetime(2019, 4, 3, 3, 8, 33), 'RT @blanchettgirl: BREAKING NEWS: \\n\\nAccording to TMZ, Cate Blanchett was recently hospitalized due to severe back pains caused due to the b…')], 'Melissa McCarthy': [(datetime.datetime(2019, 4, 3, 2, 56, 25), 'RT @Variety: Tiffany Haddish, Melissa McCarthy Show Off Dramatic Chops in First Look at New Line Thriller ‘The Kitchen’ https://t.co/9RS9Nq…'), (datetime.datetime(2019, 4, 3, 2, 54, 7), 'RT @Variety: Tiffany Haddish, Melissa McCarthy Show Off Dramatic Chops in First Look at New Line Thriller ‘The Kitchen’ https://t.co/9RS9Nq…')], 'Gal Gadot': [(datetime.datetime(2019, 4, 3, 3, 15, 9), '@TamaranKori @realsnyderos @KenwayPochi Gal Gadot is still being called a child killer. Haven’t seen one article about her being bullied. Saw a whole bunch of articles bullying her'), (datetime.datetime(2019, 4, 3, 3, 14, 38), 'RT @Variety: DC Teases Female-Led ‘Wonder Woman 1984,’ ‘Birds of Prey’ https://t.co/QXrowO8evW')], 'George Clooney': [(datetime.datetime(2019, 4, 3, 3, 19, 56), 'RT @ABC7: George Clooney, city leaders call for boycott of 2 LA hotels owned by royal family of Brunei over anti-LGBTQ policies in that cou…'), (datetime.datetime(2019, 4, 3, 3, 18, 21), 'RT @ArchKennedy: I have warned the gay community FOR YEARS about the execution of gays under #ShariaLaw an I have been called an Islamophob…')], 'Dwayne Johnson': [(datetime.datetime(2019, 4, 3, 3, 17, 38), '@nesngvyen i- ... jokes on u i’m on dwayne johnson’s account fool'), (datetime.datetime(2019, 4, 3, 3, 14, 52), 'RT @SplatoonNews: NEW SPLATFEST: Can you smell what The Rock is cooking?  Which do you prefer, Dwayne Johnson or The Rock?  Pick your side…')], 'Robert Downey Jr.': [(datetime.datetime(2019, 4, 3, 3, 19, 32), 'RT @TaranstingVFX: Robert Downey Stark or Tony Downey Jr https://t.co/06L012t8g8'), (datetime.datetime(2019, 4, 3, 3, 17, 51), 'RT @TheBabylonBee: INEQUALITY: This Woman Makes Just $13 A Day Selling Pet Rocks On Etsy While MALE Robert Downey Jr. Made Millions Playing…')], 'Chris Hemsworth': [(datetime.datetime(2019, 4, 3, 3, 15, 15), 'RT @thorshope: chris hemsworth talking about civil war should never be forgotten https://t.co/HJeWkHgiJj'), (datetime.datetime(2019, 4, 3, 3, 15, 9), 'RT @MarvelS19211783: Chris Hemsworth greets India | Marvel Fan Event feat Joe Russo | Avengers Endgame https://t.co/RqD3AZforO')], 'Jackie Chan': [(datetime.datetime(2019, 4, 3, 3, 13, 34), 'DollaGang x Jackie Chan x Shot By @ViralGod https://t.co/2fl0QGnBBv via @YouTube'), (datetime.datetime(2019, 4, 3, 3, 12, 45), 'Jackie chan song still slaps idc')], 'Will Smith': [(datetime.datetime(2019, 4, 3, 3, 20), 'RT @timelesssports_: (2010) JR Smith taking FLIGHT in the Cool Greys will never get old. 🔥 https://t.co/iq5RO8p6z4'), (datetime.datetime(2019, 4, 3, 3, 19, 59), 'RT @Franklin_Graham: The Bible says, “that if you confess with your mouth the Lord Jesus and believe in your heart that God has raised Him…')], 'Akshay Kumar': [(datetime.datetime(2019, 4, 3, 3, 19, 47), 'RT @Bollyhungama: .@akshaykumar shares this adorable video of his daughter Nitara and here’s why we think it is inspirational!\\nhttps://t.co…'), (datetime.datetime(2019, 4, 3, 3, 19, 33), 'RT @filmfare: .@Advani_Kiara all set to romance @akshaykumar in the remake of horror comedy #Kanchana. \\n\\nhttps://t.co/TluxM1kwMp')], 'Adam Sandler': [(datetime.datetime(2019, 4, 3, 3, 17, 41), '@angelicabastien Mike Binder’s Reign Over Me\\nStarring Adam Sandler\\n👏🏻👏🏻👏🏻👏🏻👏🏻 https://t.co/ggHVgSGILV'), (datetime.datetime(2019, 4, 3, 3, 15, 44), '4chan is the adam sandler of the internet')], 'Salman Khan': [(datetime.datetime(2019, 4, 3, 3, 6), 'RT @taran_adarsh: Shoot begins today... Salman Khan returns as Chulbul Pandey in #Dabangg3... Directed by Prabhu Dheva. https://t.co/Qn7nDB…'), (datetime.datetime(2019, 4, 3, 3, 4, 7), 'RT @Bollyhungama: #Dabangg3: @BeingSalmanKhan returns as quirky Chulbul Pandey in these leaked videos\\nhttps://t.co/xXgHLDd6vr')], 'Chris Evans': [(datetime.datetime(2019, 4, 3, 3, 19, 55), 'RT @jerkbarns: SEE CHRIS EVANS ACTING ANGRY IS THE HOTTEST IN THE WORLD. https://t.co/EWuRfwoFiy'), (datetime.datetime(2019, 4, 3, 3, 19, 23), 'RT @ClickHole: Heartwarming: When Chris Evans Found Out This Fan Had Terminal Cancer, He Killed Himself So They Could Hang Out In Heaven ht…')]}\n"
     ]
    }
   ],
   "source": [
    "main()"
   ]
  },
  {
   "cell_type": "code",
   "execution_count": null,
   "metadata": {
    "collapsed": true
   },
   "outputs": [],
   "source": []
  }
 ],
 "metadata": {
  "kernelspec": {
   "display_name": "Python 3",
   "language": "python",
   "name": "python3"
  },
  "language_info": {
   "codemirror_mode": {
    "name": "ipython",
    "version": 3
   },
   "file_extension": ".py",
   "mimetype": "text/x-python",
   "name": "python",
   "nbconvert_exporter": "python",
   "pygments_lexer": "ipython3",
   "version": "3.6.3"
  }
 },
 "nbformat": 4,
 "nbformat_minor": 2
}

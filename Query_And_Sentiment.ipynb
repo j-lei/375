{
 "cells": [
  {
   "cell_type": "code",
   "execution_count": 224,
   "metadata": {},
   "outputs": [],
   "source": [
    "#Tweet Retrieval Import\n",
    "\n",
    "import GetOldTweets3 as got\n",
    "import sys\n",
    "import json\n",
    "\n",
    "#Sentiment Analysis Imports\n",
    "from textblob import TextBlob\n",
    "import pandas as pd\n",
    "import numpy as np"
   ]
  },
  {
   "cell_type": "markdown",
   "metadata": {},
   "source": [
    "# Configuration"
   ]
  },
  {
   "cell_type": "markdown",
   "metadata": {},
   "source": [
    "# Tweet Retrieval"
   ]
  },
  {
   "cell_type": "code",
   "execution_count": 230,
   "metadata": {},
   "outputs": [],
   "source": [
    "class tweetFetcher:\n",
    "\n",
    "### FUNCTIONS THAT HANDLE ACTOR LIST ###    \n",
    "    \n",
    "    #TODO needs to be changed to update actor_list based on how jennifer creates actor_lists in the other notebook\n",
    "\n",
    "    def create_movie_actor_list_from_file(self, input_actor_file):\n",
    "        \n",
    "        with open(input_actor_file, 'r') as input_file:\n",
    "            \n",
    "            data = input_file.read()\n",
    "\n",
    "            # parse file            \n",
    "            self.movie_actor_list = json.loads(data)\n",
    "        \n",
    "    def set_movie_actor_list(self, provided_actor_list):\n",
    "        self.movie_actor_list = provided_actor_list    \n",
    "        \n",
    "    def get_movie_actor_list(self):\n",
    "        return self.movie_actor_list\n",
    "    \n",
    "### FUNCTIONS THAT QUERY DATA\n",
    "    \n",
    "    # Query all movies using internal movie_actor_list \n",
    "    # Store results of all tweets\n",
    "    # Convert to JSON\n",
    "    # Store in Output file\n",
    "    \n",
    "    def query_tweets_as_JSON(self, output_file, tweets_per_actor, movie_limit):\n",
    "                    \n",
    "        with open(output_file, 'w') as write_file:\n",
    "\n",
    "            query_results = []\n",
    "            processed_query_results = []\n",
    "            \n",
    "            movie_counter = 0\n",
    "            for movie in self.movie_actor_list:\n",
    "                if movie_counter > movie_limit:\n",
    "                    break            \n",
    "\n",
    "                title = movie['title'] \n",
    "                release_date = movie['release_date']\n",
    "                end_date = movie['end_date']\n",
    "                actors = movie['actors']\n",
    "\n",
    "                for actor in actors:\n",
    "                    actor_tweet = self.query_tweets(actor, release_date, end_date, tweets_per_actor)\n",
    "                    query_results.append(actor_tweet)\n",
    "\n",
    "                movie_counter += 1\n",
    "                \n",
    "                for actor in query_results:\n",
    "                    processed_query_results.append(self.parse_tweet_object(actor))\n",
    "                    \n",
    "            json.dump(processed_query_results, write_file)\n",
    "    \n",
    "    \n",
    "    # Use the GOT3 module to get a tweet\n",
    "    #Provide dates in \"YYYY-MM-DD\" Format\n",
    "    def query_tweets(self, query, start_date = \"2006-03-21\", end_date = \"2019-06-30\", max_tweets = 1):\n",
    "        tweetCriteria = got.manager.TweetCriteria().setQuerySearch(query)\\\n",
    "                                               .setSince(start_date)\\\n",
    "                                               .setUntil(end_date)\\\n",
    "                                               .setMaxTweets(max_tweets)\n",
    "        \n",
    "        query_results = got.manager.TweetManager.getTweets(tweetCriteria)\n",
    "        return query_results\n",
    "\n",
    "    \n",
    "    \n",
    "    # Given a list of tweet objects, return a list of dictionaries\n",
    "    # where each dictionary looks like {date: strTweetDate, text: strText}\n",
    "    def parse_tweet_object(self, tweet_object_list):\n",
    "        \n",
    "        tweet_data_list = []\n",
    "            \n",
    "        for tweet in tweet_object_list:\n",
    "                \n",
    "            date = str(tweet.date)\n",
    "            text = tweet.text\n",
    "            tweet_data = {\"date\": date, \"text\": text}\n",
    "            \n",
    "            tweet_data_list.append(tweet_data)\n",
    "                                \n",
    "        return tweet_data_list"
   ]
  },
  {
   "cell_type": "code",
   "execution_count": 232,
   "metadata": {},
   "outputs": [],
   "source": [
    "#Example of how to use TweetFetcher\n",
    "\n",
    "def fetch_tweets(input_actor_file, output_tweet_file, tweets_per_actor, number_of_movies):\n",
    "    tweet_fetcher = tweetFetcher()    \n",
    "    \n",
    "    tweet_fetcher.create_movie_actor_list_from_file(input_actor_file)\n",
    "    \n",
    "    tweet_fetcher.query_tweets_as_JSON(output_tweet_file, tweets_per_actor, number_of_movies)\n",
    "\n",
    "    \n",
    "fetch_tweets(input_actor_file = \"intermediates/actors.json\",\n",
    "             output_tweet_file = \"intermediates/data_file.json\",\n",
    "             tweets_per_actor = 3,\n",
    "             number_of_movies = 5)"
   ]
  },
  {
   "cell_type": "markdown",
   "metadata": {},
   "source": [
    "# Sentiment Analysis"
   ]
  },
  {
   "cell_type": "code",
   "execution_count": 227,
   "metadata": {},
   "outputs": [],
   "source": [
    "class sentiment_analyzer:\n",
    "    \n",
    "    \n",
    "    #Given a selection of raw text, return the sentiment of that text\n",
    "    def get_text_sentiment(self, raw_text):\n",
    "        sentiment = TextBlob(raw_text).sentiment\n",
    "        return sentiment\n",
    "    \n",
    "    \n",
    "    #TODO Fix this to use the new output from the new API\n",
    "    def mass_tweet_analyis(self, archive_file):\n",
    "        \n",
    "        with open(archive_file) as json_file:  \n",
    "            data = json.load(json_file)\n",
    "            for p in data:\n",
    "                print(p)\n",
    "        \n",
    "    \n",
    "    \n",
    "    ##Deprecated Method: Do not USE!!!!!!!!!!!!!!!!!!!!!!!!!!!!!!!!!!!!1111111111111111111111111\n",
    "    \n",
    "    def update_tweet_sentiment(self, actor_tweet_dictionary):\n",
    "    \n",
    "        tweets_by_actor = actor_tweet_dictionary\n",
    "        for actors in tweets_by_actor:\n",
    "            for tweets in (tweets_by_actor[actors]):\n",
    "                tweets.update(sentiment=TextBlob(tweets['content']).sentiment)\n",
    "                print(tweets)\n",
    "            \n",
    "        return(tweets_by_actor)"
   ]
  },
  {
   "cell_type": "code",
   "execution_count": 9,
   "metadata": {},
   "outputs": [],
   "source": [
    "sentiment_analyzer = sentiment_analyzer()"
   ]
  },
  {
   "cell_type": "code",
   "execution_count": 223,
   "metadata": {},
   "outputs": [
    {
     "ename": "AttributeError",
     "evalue": "type object 'sentiment_analyzer' has no attribute 'get_tweet_sentiment'",
     "output_type": "error",
     "traceback": [
      "\u001b[1;31m---------------------------------------------------------------------------\u001b[0m",
      "\u001b[1;31mAttributeError\u001b[0m                            Traceback (most recent call last)",
      "\u001b[1;32m<ipython-input-223-abc0ac189e0f>\u001b[0m in \u001b[0;36m<module>\u001b[1;34m\u001b[0m\n\u001b[1;32m----> 1\u001b[1;33m \u001b[0msentiment_analyzer\u001b[0m\u001b[1;33m.\u001b[0m\u001b[0mget_tweet_sentiment\u001b[0m\u001b[1;33m(\u001b[0m\u001b[1;34m\"loser\"\u001b[0m\u001b[1;33m)\u001b[0m\u001b[1;33m\u001b[0m\u001b[1;33m\u001b[0m\u001b[0m\n\u001b[0m",
      "\u001b[1;31mAttributeError\u001b[0m: type object 'sentiment_analyzer' has no attribute 'get_tweet_sentiment'"
     ]
    }
   ],
   "source": [
    "sentiment_analyzer.get_tweet_sentiment(\"loser\")"
   ]
  },
  {
   "cell_type": "code",
   "execution_count": null,
   "metadata": {},
   "outputs": [],
   "source": []
  }
 ],
 "metadata": {
  "kernelspec": {
   "display_name": "Python 3",
   "language": "python",
   "name": "python3"
  },
  "language_info": {
   "codemirror_mode": {
    "name": "ipython",
    "version": 3
   },
   "file_extension": ".py",
   "mimetype": "text/x-python",
   "name": "python",
   "nbconvert_exporter": "python",
   "pygments_lexer": "ipython3",
   "version": "3.7.2"
  }
 },
 "nbformat": 4,
 "nbformat_minor": 2
}

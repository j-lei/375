{
 "cells": [
  {
   "cell_type": "code",
   "execution_count": 1,
   "metadata": {},
   "outputs": [],
   "source": [
    "import pandas as pd\n",
    "import numpy as np\n",
    "from textblob import TextBlob"
   ]
  },
  {
   "cell_type": "code",
   "execution_count": 2,
   "metadata": {},
   "outputs": [],
   "source": [
    "tweet1 = {'date': '1/2/2019', 'handle': 'jlei', 'content': 'ewan sucks'}\n",
    "\n",
    "tweet2 = {'date': '2/10/2019', 'handle': 'dhrovs', 'content': 'ewan rocks'}\n",
    "\n",
    "tweet3 = {'date': '3/1/2019', 'handle': 'atalp', 'content': 'ewan is average'}"
   ]
  },
  {
   "cell_type": "code",
   "execution_count": 3,
   "metadata": {},
   "outputs": [
    {
     "data": {
      "text/plain": [
       "{'Ewan McGregor': [{'date': '1/2/2019',\n",
       "   'handle': 'jlei',\n",
       "   'content': 'ewan sucks'},\n",
       "  {'date': '2/10/2019', 'handle': 'dhrovs', 'content': 'ewan rocks'},\n",
       "  {'date': '3/1/2019', 'handle': 'atalp', 'content': 'ewan is average'}]}"
      ]
     },
     "execution_count": 3,
     "metadata": {},
     "output_type": "execute_result"
    }
   ],
   "source": [
    "tweets_by_actor = {'Ewan McGregor': [tweet1, tweet2, tweet3]}\n",
    "tweets_by_actor"
   ]
  },
  {
   "cell_type": "markdown",
   "metadata": {},
   "source": [
    "Calculate Sentiment Scores per Movie  \n",
    "1. For each actor in ATD:\n",
    "        a. For each tweet in actor:\n",
    "               i. Calculate sentiment score\n",
    "              ii. Store score in ATD\n",
    "2. For each movie-actor in Movie-Actor list:\n",
    "        a. For each actor in ATD:\n",
    "            i. Search for relevant tweets (by date)\n",
    "            ii. Retrieve score for each relevant tweet\n",
    "        b. Calculate score for each movie-actor\n",
    "3. For each movie in MASSD\n",
    "        a.Calculate overall sentiment score for each movie by averaging movie-actor scores\n"
   ]
  },
  {
   "cell_type": "code",
   "execution_count": 4,
   "metadata": {},
   "outputs": [],
   "source": [
    "#1. For each actor in ATD:\n",
    "#       a. For each tweet in actor:\n",
    "#              i. Calculate sentiment score\n",
    "#             ii. Store score in ATD"
   ]
  },
  {
   "cell_type": "code",
   "execution_count": 47,
   "metadata": {},
   "outputs": [
    {
     "name": "stdout",
     "output_type": "stream",
     "text": [
      "{'date': '1/2/2019', 'handle': 'jlei', 'content': 'ewan sucks', 'sentiment': Sentiment(polarity=-0.3, subjectivity=0.3)}\n",
      "{'date': '2/10/2019', 'handle': 'dhrovs', 'content': 'ewan rocks', 'sentiment': Sentiment(polarity=0.0, subjectivity=0.0)}\n",
      "{'date': '3/1/2019', 'handle': 'atalp', 'content': 'ewan is average', 'sentiment': Sentiment(polarity=-0.15, subjectivity=0.39999999999999997)}\n"
     ]
    }
   ],
   "source": [
    "#Calculate and store sentiment \n",
    "\n",
    "def update_tweet_sentiment(actor_tweet_dictionary):\n",
    "    \n",
    "    tweets_by_actor = actor_tweet_dictionary\n",
    "    \n",
    "    for actors in tweets_by_actor:\n",
    "        for tweets in (tweets_by_actor[actors]):\n",
    "            tweets.update(sentiment=TextBlob(tweets['content']).sentiment)\n",
    "                print(tweets)\n",
    "                \n",
    "    return(tweets_by_actor)"
   ]
  },
  {
   "cell_type": "markdown",
   "metadata": {},
   "source": [
    "2. For each movie-actor in Movie-Actor list:\n",
    "        a. For each actor in ATD:\n",
    "            i. Search for relevant tweets (by date)\n",
    "            ii. Retrieve score for each relevant tweet\n",
    "        b. Calculate score for each movie-actor"
   ]
  },
  {
   "cell_type": "code",
   "execution_count": null,
   "metadata": {},
   "outputs": [],
   "source": [
    "def get_movie_actor_sentiment(movie_actor)\n",
    "\n",
    "    \n",
    "    \n",
    "    return sentiment"
   ]
  },
  {
   "cell_type": "code",
   "execution_count": null,
   "metadata": {},
   "outputs": [],
   "source": [
    "def update_movie_actor_sentiment(actor_tweet_dictionary):\n",
    "    \n",
    "    \n",
    "    for actors in tweets_by_actor:\n",
    "\n",
    "        \n",
    "        \n",
    "    "
   ]
  }
 ],
 "metadata": {
  "kernelspec": {
   "display_name": "Python 3",
   "language": "python",
   "name": "python3"
  },
  "language_info": {
   "codemirror_mode": {
    "name": "ipython",
    "version": 3
   },
   "file_extension": ".py",
   "mimetype": "text/x-python",
   "name": "python",
   "nbconvert_exporter": "python",
   "pygments_lexer": "ipython3",
   "version": "3.7.2"
  }
 },
 "nbformat": 4,
 "nbformat_minor": 2
}

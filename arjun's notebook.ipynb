{
 "cells": [
  {
   "cell_type": "code",
   "execution_count": 7,
   "metadata": {},
   "outputs": [],
   "source": [
    "from tweepy import Stream\n",
    "from tweepy import OAuthHandler\n",
    "from tweepy.streaming import StreamListener\n",
    "import tweepy\n",
    "import sys\n",
    "import json\n",
    "\n",
    "\n",
    "\n",
    "#New imports\n",
    "from textblob import TextBlob\n",
    "import pandas as pd\n",
    "import numpy as np\n",
    "from textblob import TextBlob\n",
    "import json"
   ]
  },
  {
   "cell_type": "markdown",
   "metadata": {},
   "source": [
    "# Configuration"
   ]
  },
  {
   "cell_type": "code",
   "execution_count": 8,
   "metadata": {},
   "outputs": [],
   "source": [
    "TWEET_COUNT = 2"
   ]
  },
  {
   "cell_type": "markdown",
   "metadata": {},
   "source": [
    "## Tokens for the Tweepy API"
   ]
  },
  {
   "cell_type": "code",
   "execution_count": 9,
   "metadata": {},
   "outputs": [],
   "source": [
    "ckey=\"hpbARu5lJlozST82JEdXYcaS7\"\n",
    "csecret=\"JpfbXATmdNPz6yIhFwmVU1mGU28QTICCuYkfqGibb25HV4x4VK\"\n",
    "atoken=\"1094363214043889665-UohVaHgV89P7OtSgUlWq6QJ6q30Yu1\"\n",
    "asecret=\"mz0RhOmUHN2ISAFcE3j0bOwZVxoAy5x5Ccn8RAiqYrRRI\""
   ]
  },
  {
   "cell_type": "markdown",
   "metadata": {},
   "source": [
    "# Tweet Retrieval"
   ]
  },
  {
   "cell_type": "code",
   "execution_count": 10,
   "metadata": {},
   "outputs": [],
   "source": [
    "class tweetFetcher:\n",
    "    \n",
    "    file_name = \"data_file.json\"\n",
    "    \n",
    "    #Manage API limit\n",
    "    def limit_handled(cursor):\n",
    "        while True:\n",
    "            try:\n",
    "                yield cursor.next()\n",
    "            except tweepy.RateLimitError:\n",
    "                time.sleep(15*60)\n",
    "            except StopIteration:\n",
    "                break\n",
    "    \n",
    "    #Generate actor list\n",
    "    def create_actor_list():\n",
    "        with open('test_actors.txt') as actor_file:\n",
    "            for line in actor_file:\n",
    "                actor_list.append(line.strip())\n",
    "        \n",
    "    # assumes actor_list has no duplicates\n",
    "    def run_query(api):\n",
    "        actor_list = []\n",
    "        tweets_by_actors = {}\n",
    "    \n",
    "        with open(\"data_file.json\", \"w\") as write_file:\n",
    "            for actor in actor_list:\n",
    "                tweet_list = []\n",
    "                cursor = tweepy.Cursor(api.search, q=actor, lang='en', tweet_mode='extended').items(TWEET_COUNT)\n",
    "                \n",
    "        \n",
    "            for tweet in limit_handled(cursor):\n",
    "                if hasattr(tweet, 'text'):\n",
    "                    contents = tweet.text\n",
    "                else:\n",
    "                    contents = tweet.full_text\n",
    "                datetime = tweet.created_at\n",
    "                tweet_tuple = datetime, contents\n",
    "                tweet_list.append(tweet_tuple)\n",
    "                json.dump(tweet_tuple, write_file, indent=4, sort_keys=True, default=str)\n",
    "\n",
    "            tweets_by_actors[actor] = tweet_list"
   ]
  },
  {
   "cell_type": "code",
   "execution_count": 11,
   "metadata": {},
   "outputs": [],
   "source": [
    "def main():\n",
    "    auth = OAuthHandler(ckey, csecret)\n",
    "    auth.set_access_token(atoken, asecret)\n",
    "    api = tweepy.API(auth)\n",
    "\n",
    "    tweet_fetcher = tweetFetcher()\n",
    "    \n",
    "    tweet_fetcher.r(api)\n"
   ]
  },
  {
   "cell_type": "code",
   "execution_count": 12,
   "metadata": {},
   "outputs": [
    {
     "ename": "NameError",
     "evalue": "name 'query_runner' is not defined",
     "output_type": "error",
     "traceback": [
      "\u001b[1;31m---------------------------------------------------------------------------\u001b[0m",
      "\u001b[1;31mNameError\u001b[0m                                 Traceback (most recent call last)",
      "\u001b[1;32m<ipython-input-12-263240bbee7e>\u001b[0m in \u001b[0;36m<module>\u001b[1;34m\u001b[0m\n\u001b[1;32m----> 1\u001b[1;33m \u001b[0mmain\u001b[0m\u001b[1;33m(\u001b[0m\u001b[1;33m)\u001b[0m\u001b[1;33m\u001b[0m\u001b[1;33m\u001b[0m\u001b[0m\n\u001b[0m",
      "\u001b[1;32m<ipython-input-11-d69e51b3ca62>\u001b[0m in \u001b[0;36mmain\u001b[1;34m()\u001b[0m\n\u001b[0;32m      4\u001b[0m     \u001b[0mapi\u001b[0m \u001b[1;33m=\u001b[0m \u001b[0mtweepy\u001b[0m\u001b[1;33m.\u001b[0m\u001b[0mAPI\u001b[0m\u001b[1;33m(\u001b[0m\u001b[0mauth\u001b[0m\u001b[1;33m)\u001b[0m\u001b[1;33m\u001b[0m\u001b[1;33m\u001b[0m\u001b[0m\n\u001b[0;32m      5\u001b[0m \u001b[1;33m\u001b[0m\u001b[0m\n\u001b[1;32m----> 6\u001b[1;33m     \u001b[0mquery_runner\u001b[0m\u001b[1;33m(\u001b[0m\u001b[0mapi\u001b[0m\u001b[1;33m)\u001b[0m\u001b[1;33m\u001b[0m\u001b[1;33m\u001b[0m\u001b[0m\n\u001b[0m",
      "\u001b[1;31mNameError\u001b[0m: name 'query_runner' is not defined"
     ]
    }
   ],
   "source": [
    "main()"
   ]
  },
  {
   "cell_type": "code",
   "execution_count": null,
   "metadata": {},
   "outputs": [],
   "source": []
  }
 ],
 "metadata": {
  "kernelspec": {
   "display_name": "Python 3",
   "language": "python",
   "name": "python3"
  },
  "language_info": {
   "codemirror_mode": {
    "name": "ipython",
    "version": 3
   },
   "file_extension": ".py",
   "mimetype": "text/x-python",
   "name": "python",
   "nbconvert_exporter": "python",
   "pygments_lexer": "ipython3",
   "version": "3.7.2"
  }
 },
 "nbformat": 4,
 "nbformat_minor": 2
}

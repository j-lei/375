{
 "cells": [
  {
   "cell_type": "code",
   "execution_count": 36,
   "metadata": {},
   "outputs": [],
   "source": [
    "from tweepy import Stream\n",
    "from tweepy import OAuthHandler\n",
    "from tweepy.streaming import StreamListener\n",
    "import tweepy\n",
    "import sys\n",
    "import json\n",
    "\n",
    "\n",
    "\n",
    "#New imports\n",
    "from textblob import TextBlob\n",
    "import pandas as pd\n",
    "import numpy as np\n",
    "from textblob import TextBlob\n",
    "import json"
   ]
  },
  {
   "cell_type": "markdown",
   "metadata": {},
   "source": [
    "# Configuration"
   ]
  },
  {
   "cell_type": "code",
   "execution_count": 37,
   "metadata": {},
   "outputs": [],
   "source": [
    "TWEET_COUNT = 2"
   ]
  },
  {
   "cell_type": "markdown",
   "metadata": {},
   "source": [
    "## Tokens for the Tweepy API"
   ]
  },
  {
   "cell_type": "code",
   "execution_count": 65,
   "metadata": {},
   "outputs": [],
   "source": [
    "ckey=\"hpbARu5lJlozST82JEdXYcaS7\"\n",
    "csecret=\"JpfbXATmdNPz6yIhFwmVU1mGU28QTICCuYkfqGibb25HV4x4VK\"\n",
    "atoken=\"1094363214043889665-UohVaHgV89P7OtSgUlWq6QJ6q30Yu1\"\n",
    "asecret=\"mz0RhOmUHN2ISAFcE3j0bOwZVxoAy5x5Ccn8RAiqYrRRI\""
   ]
  },
  {
   "cell_type": "markdown",
   "metadata": {},
   "source": [
    "# Tweet Retrieval"
   ]
  },
  {
   "cell_type": "code",
   "execution_count": 90,
   "metadata": {},
   "outputs": [],
   "source": [
    "class tweetFetcher:\n",
    "    \n",
    "    \n",
    "    def __init__(self, ckey, csecret, atoken, asecret):\n",
    "        \n",
    "        auth = OAuthHandler(ckey, csecret)\n",
    "        auth.set_access_token(atoken, asecret)\n",
    "        self.api = tweepy.API(auth)\n",
    "        \n",
    "        self.actor_list = []\n",
    "    \n",
    "    #Manage API limit\n",
    "    def limit_handled(self, cursor):\n",
    "        while True:\n",
    "            try:\n",
    "                yield cursor.next()\n",
    "            except tweepy.RateLimitError:\n",
    "                time.sleep(15*60)\n",
    "            except StopIteration:\n",
    "                break\n",
    "    \n",
    "    #Generate actor list\n",
    "    def create_actor_list(self):\n",
    "        with open('test_actors.txt') as actor_file:\n",
    "            actor_list = []\n",
    "            for line in actor_file:\n",
    "                actor_list.append(line.strip())\n",
    "        self.actor_list = actor_list\n",
    "        \n",
    "    # assumes actor_list has no duplicates\n",
    "    def run_query(self):\n",
    "    \n",
    "        with open(\"data_file.json\", \"w\") as write_file:\n",
    "            for actor in self.actor_list:\n",
    "                tweet_list = []\n",
    "                cursor = tweepy.Cursor(self.api.search, q=actor, lang='en', tweet_mode='extended').items(TWEET_COUNT)\n",
    "                \n",
    "        \n",
    "                for tweet in self.limit_handled(cursor):\n",
    "                    if hasattr(tweet, 'text'):\n",
    "                        contents = tweet.text\n",
    "                    else:\n",
    "                        contents = tweet.full_text\n",
    "                    datetime = tweet.created_at\n",
    "                    tweet_tuple = datetime, contents\n",
    "                    tweet_list.append(tweet_tuple)\n",
    "                    json.dump(tweet_tuple, write_file, indent=4, sort_keys=True, default=str)\n",
    "\n"
   ]
  },
  {
   "cell_type": "code",
   "execution_count": 91,
   "metadata": {},
   "outputs": [],
   "source": [
    "def main():\n",
    "\n",
    "    tweet_fetcher = tweetFetcher(ckey, csecret, atoken, asecret)\n",
    "    \n",
    "    tweet_fetcher.create_actor_list()\n",
    "    \n",
    "    tweet_fetcher.run_query()\n"
   ]
  },
  {
   "cell_type": "code",
   "execution_count": 92,
   "metadata": {},
   "outputs": [],
   "source": [
    "main()"
   ]
  }
 ],
 "metadata": {
  "kernelspec": {
   "display_name": "Python 3",
   "language": "python",
   "name": "python3"
  },
  "language_info": {
   "codemirror_mode": {
    "name": "ipython",
    "version": 3
   },
   "file_extension": ".py",
   "mimetype": "text/x-python",
   "name": "python",
   "nbconvert_exporter": "python",
   "pygments_lexer": "ipython3",
   "version": "3.7.2"
  }
 },
 "nbformat": 4,
 "nbformat_minor": 2
}
